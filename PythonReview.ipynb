{
 "cells": [
  {
   "cell_type": "markdown",
   "metadata": {},
   "source": [
    "# Python Practice\n",
    "\n",
    "Here's a notebook to review some basic Python concepts that we've covered and worked with in the past weeks. "
   ]
  },
  {
   "cell_type": "markdown",
   "metadata": {},
   "source": [
    "## Variables\n",
    "\n",
    "Variables are the names that we use as placeholders for values. ints, strings, dataframes, lists, any type or object (more on that later) can be stored in a variable. \n",
    "\n",
    "Variables are assigned using an =, like so: \n",
    "\n",
    "    variable_name = variable_value"
   ]
  },
  {
   "cell_type": "code",
   "execution_count": null,
   "metadata": {
    "collapsed": false
   },
   "outputs": [],
   "source": [
    "# Task: fill in variable names so that this program swaps the value of the two argument variables\n",
    "\n",
    "def swap(___, ___):\n",
    "    ___ = ___\n",
    "    ___ = ___\n",
    "    ___ = ___\n",
    "    \n",
    "    return ___, ___\n",
    "\n",
    "a = \"apple\"\n",
    "b = \"banana\"\n",
    "\n",
    "a, b = swap(a, b)\n",
    "\n",
    "print(\"a is for \" + a)\n",
    "print(\"b is for \" + b)"
   ]
  },
  {
   "cell_type": "markdown",
   "metadata": {},
   "source": [
    "## Operators\n",
    "\n",
    "Operators are one way that we can change the value of a variable, or compare the value of two variables together. \n",
    "\n",
    "** Artithmetic operators** change the value of an int or float variable arithmetically. They include:\n",
    "- \\+   (plus)\n",
    "- \\-   (minus)\n",
    "- \\*   (times)\n",
    "- /   (divided by)\n",
    "- %   (remainder when divided by)\n",
    "- \\**   (to the power of)\n",
    "\n",
    "You can add an = to the end of any arithmetic operator if you want to perform the operation on the variable on the left-hand side. For example, \n",
    "        \n",
    "       some_var += 1 \n",
    "\n",
    "is the same as\n",
    "   \n",
    "       some_var = some_var + 1\n",
    "       \n",
    "Arithmetic operators are usually used with numbers (ints and floats), but the + and += operators are compatible with some other types, including strings and lists. \n",
    "       \n",
    "** Comparison operators ** return a boolean describing the relationship between the two variables. They include:\n",
    "- == (is equal to)\n",
    "- \\!= (is not equal to)\n",
    "- \\> (is greater than)\n",
    "- < (is less than)\n",
    "- \\>= (is greater than or equal to)\n",
    "- <= (is less than or equal to)\n",
    "\n",
    "In general, you should be comparing between the same type. You'll see these used often with if statements. "
   ]
  },
  {
   "cell_type": "code",
   "execution_count": null,
   "metadata": {
    "collapsed": false
   },
   "outputs": [],
   "source": [
    "# Task: fill in the blanks with the appropriate comparison operator so that this function checks if a number is prime\n",
    "# by checking if it is divisible by every number smaller than it. \n",
    "# DO NOT RUN IT WITH HUGE NUMBERS IT WILL RUN FOR SO LONG\n",
    "\n",
    "def is_prime(number):\n",
    "    factor_not_found = True\n",
    "    factor = number ____ 1.0\n",
    "    while factor_not_found and factor _____ 1: \n",
    "        rem = number _____ factor\n",
    "        if rem ____ 0: \n",
    "            factor_not_found = False\n",
    "        else:\n",
    "            factor _____ 1.0\n",
    "    \n",
    "    return (factor_not_found _____ False)\n",
    "\n",
    "print(is_prime(12.0))\n",
    "print(is_prime(17.0))"
   ]
  },
  {
   "cell_type": "markdown",
   "metadata": {},
   "source": [
    "## Loops\n",
    "\n",
    "Loops are a really useful tool that let us avoid repeating code. Python uses two types of loops: \n",
    "\n",
    "** For loops ** are loops that iterate through every item in a collection or sequence (most commonly a list). Their syntax looks like this:\n",
    "\n",
    "    for loop_variable in loop_list:\n",
    "    \n",
    "Here, loop_list is the list of items you want to iterate through, and loop_variable is a variable that will hold the value of the corresponding item from loop_list at every iteration. The first time the loop runs, it will hold the first item from loop_list, the second time the second item, and so on. \n",
    "\n",
    "You can also run a for loop using a counter, by calling the range() function, like this:\n",
    "\n",
    "    for loop_counter in range(number_of_loops):\n",
    "    \n",
    "This works because the range() function returns a sequence of numbers and the loop iterates through them. You can add more arguments to the range function to customize the counter --- check out the documentation for more. \n",
    "\n",
    "\n",
    "** While loops ** are loops that will run as long as a condition is True. Their syntax looks like this: \n",
    "\n",
    "    while loop_condition:\n",
    "\n",
    "That loop_condition should be a boolean, with value True or False. It can be a boolean statement ( x == y ) or a variable. Be careful with while loops --- it's easy to get into an infinite loop if you're not careful that your condition always changes. "
   ]
  },
  {
   "cell_type": "code",
   "execution_count": null,
   "metadata": {
    "collapsed": true
   },
   "outputs": [],
   "source": [
    "# Task: calculate the mean of a list of numbers using three different loop strategies: for, for with range, and while\n",
    "\n",
    "def for_mean(num_list):\n",
    "    num_sum = 0\n",
    "    # TODO: loop through num_list using a standard for loop on the list and sum the numbers\n",
    "    \n",
    "    return num_sum/len(num_list)\n",
    "\n",
    "def for_range_mean(num_list):\n",
    "    num_sum = 0\n",
    "    # TODO: loop through num_list using the range function and sum the numbers\n",
    "    \n",
    "    return num_sum/len(num_list)\n",
    "\n",
    "def while_mean(num_list):\n",
    "    num_sum = 0\n",
    "    # TODO: loop through num_list using a while loop and sum the numbers\n",
    "    \n",
    "    return num_sum/len(num_list)\n",
    "\n",
    "nums = [9.0, 8.0 , 5.0, 4.0, 5.0, 6.0, 3.0, 3.0, 8.0, 4.0]\n",
    "print(for_mean(nums))\n",
    "print(for_range_mean(nums))\n",
    "print(while_mean(nums))"
   ]
  },
  {
   "cell_type": "markdown",
   "metadata": {},
   "source": [
    "## Functions\n",
    "\n",
    "Functions are another tool that we use to make our code more flexible and less repetitive. Functions let us package a block of code and call it using the name of the function. Functions accept arguments, which are variables that the user inputs and the function manipulates in some way. Function defining syntax looks like this:\n",
    "\n",
    "        def function_name(argument1, argument2)\n",
    "\n",
    "Where all arguments are separated by commas and you can have as many or as few as you want. To call that function, you would use\n",
    "\n",
    "        function_name(value1, value2)\n",
    "        \n",
    "Then, when function_name runs, it will take in value1 and value2 and substitute their values wherever the variable names argument1 and argument2 appear in its code. This is why you can use different variable names when definining and calling a function --- the function gets all the information it needs from the order of the variables. The names of the arguments just have to be consistent within the definition, so the function knows what to do with each argument when. \n",
    "\n",
    "Some functions have optional arguments, which are specified like\n",
    "\n",
    "        function_name(argument1, argument2=0)\n",
    "        \n",
    "In this case, if you called the function with only one value, the value of argument2 would automatically be set to 0, but if you called it with two then argument2 would have the value that you input as the second argument. \n",
    "\n",
    "\n",
    "Some functions also have return values. The syntax for defining a return value looks like this:\n",
    "\n",
    "        return some_value1, some_value2, ...\n",
    "   \n",
    "This means that a function passes back a variable (or more than one variable) to be assigned where it was called. You get these values on the other side by writing:\n",
    "\n",
    "    new_value1, new_value2 = function_name(value1, value2)\n",
    "    \n",
    "With all of these, you can have no arguments or many, no return value or many. Just remember to keep track --- you need to send the right number of arguments in the right order, and get back the right number of return values in the right order as well. "
   ]
  },
  {
   "cell_type": "code",
   "execution_count": null,
   "metadata": {
    "collapsed": false
   },
   "outputs": [],
   "source": [
    "# Task: write a function, from scratch, called order() that takes five numerical arguments \n",
    "# and returns them in order of size (small to large)\n",
    "\n",
    "# TODO: write your function order () here\n",
    "\n",
    "\n",
    "print(order(4, 3, 9, 2, 7))\n"
   ]
  },
  {
   "cell_type": "markdown",
   "metadata": {},
   "source": [
    "## Ints and Floats\n",
    "\n",
    "ints and floats are two of Python's built-in types. They represent numbers. ints are integers, or whole numbers with no decimal place. Floats are decimal numbers. You can use arithmetic operators on them!"
   ]
  },
  {
   "cell_type": "markdown",
   "metadata": {},
   "source": [
    "## Strings\n",
    "\n",
    "Strings are the way that we represent words and text in Python. Strings can contain letters, numbers, and symbols. Once created, a string cannot be changed (they're immutable), but it's fairly easy to just return a new one!\n",
    "\n",
    "Strings are defined inside of single or double quotes, like this:\n",
    "\n",
    "    \"this is a string\"\n",
    "    'so is this'\n",
    "\n",
    "You can index strings using [], much like a list. Like so: \n",
    "\n",
    "    \"this is a string\"[0:4]\n",
    "    # will output\n",
    "    \"this\"\n",
    "    \n",
    "There are lots of useful built-in methods for strings, some of which are described here: https://www.tutorialspoint.com/python/python_strings.htm\n",
    "\n"
   ]
  },
  {
   "cell_type": "code",
   "execution_count": null,
   "metadata": {
    "collapsed": false
   },
   "outputs": [],
   "source": [
    "# Task: write a function that reverses a string (and, for bonus, reverses its capitalization)\n",
    "def str_reverse(str1):\n",
    "\n",
    "backwards = \"SDRAWROF EB DLUOHS SIHt\"\n",
    "print(str_reverse(backwards))"
   ]
  },
  {
   "cell_type": "markdown",
   "metadata": {},
   "source": [
    "## Lists\n",
    "\n",
    "Lists are one of the most useful Python data types to be familiar with. Lists let you group a collection of values together into an ordered structure. Lists are created with square brackets, and their values are assigned and accessed using their index, their numerical place in the list: \n",
    "\n",
    "    my_list = [\"apple\"]\n",
    "    # my_list[0] is now \"apple\"\n",
    "    my_list[0] = \"banana\"\n",
    "    # my_list now looks like [\"banana\"]\n",
    "\n",
    "You can iterate through them using \n",
    "        \n",
    "        for variable_name in list: \n",
    "        \n",
    "or check if a certain value is in a list using \n",
    "\n",
    "        if value in list:\n",
    "\n",
    "You can also slice, sort, and shuffle them using built-in methods, which you can read about here: https://www.tutorialspoint.com/python/python_lists.htm"
   ]
  },
  {
   "cell_type": "code",
   "execution_count": null,
   "metadata": {
    "collapsed": true
   },
   "outputs": [],
   "source": [
    "# Task: let's write a function that returns the overlap of two lists, the items that appear in both\n",
    "def list_overlap(list1, list2):\n",
    "    # TODO: loop through one list and check which words appear in the other list\n",
    "    \n",
    "    \n",
    "list1 = [\"this\", \"purple\", \"should\", \"form\", \"banana\", \"a\", \"sensible\", \"gerbil\", \"sentence\"]\n",
    "list2 = [\"hamster\", \"this\", \"should\", \"bubble\", \"salad\", \"form\", \"a\", \"sensible\", \"sentence\"]\n",
    "print(list_overlap(list1, list2))"
   ]
  },
  {
   "cell_type": "markdown",
   "metadata": {},
   "source": [
    "## Dictionaries\n",
    "\n",
    "Dictionaries are another really useful data structure in Python. Dictionaries are created with curly braces {}. Instead of being indexed by numbers, the values are indexed by keys, which can be strings or ints (or any immutable type --- don't worry about it too much). You add and access values by putting keys into square brackets, like numerical indices in a list.\n",
    "\n",
    "    my_dict = {}\n",
    "    my_dict[\"key\"] = \"value\"\n",
    "    # now, my_dict[\"key\"] returns \"value\"\n",
    "    \n",
    "You can loop through the keys of a dict using the in keyword like so\n",
    "\n",
    "    for key in dict:\n",
    "\n",
    "and can use the dict.items() function to get a list of key-value tuples like this\n",
    "\n",
    "    for (key, value) in dict.items():\n",
    "\n",
    "You can use other methods, which you can read about here: https://www.tutorialspoint.com/python/python_dictionary.htm"
   ]
  },
  {
   "cell_type": "code",
   "execution_count": null,
   "metadata": {
    "collapsed": true
   },
   "outputs": [],
   "source": [
    "# Task: write a function that converts a list into a dictionary whose keys are the index of each item\n",
    "def list_to_dict(my_list):\n",
    "    # TODO: loop through the list, for each item enter it into a dictionary with the key as its index in the list\n",
    "    \n",
    "print(list_to_dict([\"one\", \"two\", \"three\", \"four\", \"five\"]))"
   ]
  },
  {
   "cell_type": "markdown",
   "metadata": {},
   "source": [
    "## Casting\n",
    "\n",
    "Above, we've talked about some commonly-used types in Python programming. When we want to turn a variable of one type into a variable of another type, we can use casting. Casting syntax looks like this: \n",
    "\n",
    "        new_var_of_type2 = type2(old_var_of_type1)\n",
    "        \n",
    "The most common type of casting that we'll do is between strings, ints, and floats. \n",
    "- Casting str -> int or str -> float only works if the string only contains numerical characters\n",
    "- Casting int -> str or float -> str should always work \n",
    "- Casting int -> float makes a .0 number\n",
    "- Casting float -> int truncates a decimal, cutting it off and rounding it down to a whole number (notice that it always rounds down)\n",
    "\n",
    "Sometimes casting happens automatically (when you add an int and a float, when you print out an int or a float) and sometimes it doesn't (when you add an int and a string). "
   ]
  },
  {
   "cell_type": "code",
   "execution_count": null,
   "metadata": {
    "collapsed": false
   },
   "outputs": [],
   "source": [
    "my_float = 4.5\n",
    "my_int = 3\n",
    "my_str = \"5\"\n",
    "\n",
    "print(my_float + my_int)\n",
    "print(my_int / 2)\n",
    "print(int(my_str) + my_int)\n",
    "print(float(my_str))"
   ]
  },
  {
   "cell_type": "code",
   "execution_count": null,
   "metadata": {
    "collapsed": false
   },
   "outputs": [],
   "source": [
    "# Task: fix the type errors@\n",
    "\n",
    "# TODO: use casting so that this line prints 9.5\n",
    "print(my_float + my_str)\n",
    "\n",
    "# TODO: use casting so that this line prints 4.55\n",
    "print(my_float + my_str)"
   ]
  },
  {
   "cell_type": "code",
   "execution_count": null,
   "metadata": {
    "collapsed": true
   },
   "outputs": [],
   "source": []
  }
 ],
 "metadata": {
  "kernelspec": {
   "display_name": "Python 3",
   "language": "python",
   "name": "python3"
  }
 },
 "nbformat": 4,
 "nbformat_minor": 2
}
